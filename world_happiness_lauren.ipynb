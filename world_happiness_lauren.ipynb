{
 "cells": [
  {
   "cell_type": "code",
   "execution_count": 1,
   "metadata": {},
   "outputs": [],
   "source": [
    "# Dependencies\n",
    "import pandas as pd\n",
    "import matplotlib.pyplot as plt\n",
    "import scipy.stats as st\n",
    "import numpy as np\n"
   ]
  },
  {
   "cell_type": "code",
   "execution_count": 2,
   "metadata": {},
   "outputs": [
    {
     "data": {
      "text/html": [
       "<div>\n",
       "<style scoped>\n",
       "    .dataframe tbody tr th:only-of-type {\n",
       "        vertical-align: middle;\n",
       "    }\n",
       "\n",
       "    .dataframe tbody tr th {\n",
       "        vertical-align: top;\n",
       "    }\n",
       "\n",
       "    .dataframe thead th {\n",
       "        text-align: right;\n",
       "    }\n",
       "</style>\n",
       "<table border=\"1\" class=\"dataframe\">\n",
       "  <thead>\n",
       "    <tr style=\"text-align: right;\">\n",
       "      <th></th>\n",
       "      <th>Unnamed: 0</th>\n",
       "      <th>Happiness Rank</th>\n",
       "      <th>Country</th>\n",
       "      <th>Region</th>\n",
       "      <th>Happiness Score</th>\n",
       "      <th>Economy (GDP per Capita)</th>\n",
       "      <th>Family (Social Support)</th>\n",
       "      <th>Health (Life Expectancy)</th>\n",
       "      <th>Freedom</th>\n",
       "      <th>Trust (Government Corruption)</th>\n",
       "      <th>Generosity</th>\n",
       "      <th>Year</th>\n",
       "    </tr>\n",
       "  </thead>\n",
       "  <tbody>\n",
       "    <tr>\n",
       "      <th>0</th>\n",
       "      <td>0</td>\n",
       "      <td>1</td>\n",
       "      <td>Switzerland</td>\n",
       "      <td>Western Europe</td>\n",
       "      <td>7.587</td>\n",
       "      <td>1.39651</td>\n",
       "      <td>1.34951</td>\n",
       "      <td>0.94143</td>\n",
       "      <td>0.66557</td>\n",
       "      <td>0.41978</td>\n",
       "      <td>0.29678</td>\n",
       "      <td>2015</td>\n",
       "    </tr>\n",
       "    <tr>\n",
       "      <th>1</th>\n",
       "      <td>1</td>\n",
       "      <td>2</td>\n",
       "      <td>Iceland</td>\n",
       "      <td>Western Europe</td>\n",
       "      <td>7.561</td>\n",
       "      <td>1.30232</td>\n",
       "      <td>1.40223</td>\n",
       "      <td>0.94784</td>\n",
       "      <td>0.62877</td>\n",
       "      <td>0.14145</td>\n",
       "      <td>0.4363</td>\n",
       "      <td>2015</td>\n",
       "    </tr>\n",
       "    <tr>\n",
       "      <th>2</th>\n",
       "      <td>2</td>\n",
       "      <td>3</td>\n",
       "      <td>Denmark</td>\n",
       "      <td>Western Europe</td>\n",
       "      <td>7.527</td>\n",
       "      <td>1.32548</td>\n",
       "      <td>1.36058</td>\n",
       "      <td>0.87464</td>\n",
       "      <td>0.64938</td>\n",
       "      <td>0.48357</td>\n",
       "      <td>0.34139</td>\n",
       "      <td>2015</td>\n",
       "    </tr>\n",
       "    <tr>\n",
       "      <th>3</th>\n",
       "      <td>3</td>\n",
       "      <td>4</td>\n",
       "      <td>Norway</td>\n",
       "      <td>Western Europe</td>\n",
       "      <td>7.522</td>\n",
       "      <td>1.459</td>\n",
       "      <td>1.33095</td>\n",
       "      <td>0.88521</td>\n",
       "      <td>0.66973</td>\n",
       "      <td>0.36503</td>\n",
       "      <td>0.34699</td>\n",
       "      <td>2015</td>\n",
       "    </tr>\n",
       "    <tr>\n",
       "      <th>4</th>\n",
       "      <td>4</td>\n",
       "      <td>5</td>\n",
       "      <td>Canada</td>\n",
       "      <td>North America</td>\n",
       "      <td>7.427</td>\n",
       "      <td>1.32629</td>\n",
       "      <td>1.32261</td>\n",
       "      <td>0.90563</td>\n",
       "      <td>0.63297</td>\n",
       "      <td>0.32957</td>\n",
       "      <td>0.45811</td>\n",
       "      <td>2015</td>\n",
       "    </tr>\n",
       "    <tr>\n",
       "      <th>...</th>\n",
       "      <td>...</td>\n",
       "      <td>...</td>\n",
       "      <td>...</td>\n",
       "      <td>...</td>\n",
       "      <td>...</td>\n",
       "      <td>...</td>\n",
       "      <td>...</td>\n",
       "      <td>...</td>\n",
       "      <td>...</td>\n",
       "      <td>...</td>\n",
       "      <td>...</td>\n",
       "      <td>...</td>\n",
       "    </tr>\n",
       "    <tr>\n",
       "      <th>1224</th>\n",
       "      <td>141</td>\n",
       "      <td>142</td>\n",
       "      <td>Botswana*</td>\n",
       "      <td>-</td>\n",
       "      <td>3,471</td>\n",
       "      <td>1,503</td>\n",
       "      <td>0,815</td>\n",
       "      <td>0,280</td>\n",
       "      <td>0,571</td>\n",
       "      <td>0,102</td>\n",
       "      <td>0,012</td>\n",
       "      <td>2022</td>\n",
       "    </tr>\n",
       "    <tr>\n",
       "      <th>1225</th>\n",
       "      <td>142</td>\n",
       "      <td>143</td>\n",
       "      <td>Rwanda*</td>\n",
       "      <td>-</td>\n",
       "      <td>3,268</td>\n",
       "      <td>0,785</td>\n",
       "      <td>0,133</td>\n",
       "      <td>0,462</td>\n",
       "      <td>0,621</td>\n",
       "      <td>0,544</td>\n",
       "      <td>0,187</td>\n",
       "      <td>2022</td>\n",
       "    </tr>\n",
       "    <tr>\n",
       "      <th>1226</th>\n",
       "      <td>143</td>\n",
       "      <td>144</td>\n",
       "      <td>Zimbabwe</td>\n",
       "      <td>Sub-Saharan Africa</td>\n",
       "      <td>2,995</td>\n",
       "      <td>0,947</td>\n",
       "      <td>0,690</td>\n",
       "      <td>0,270</td>\n",
       "      <td>0,329</td>\n",
       "      <td>0,105</td>\n",
       "      <td>0,106</td>\n",
       "      <td>2022</td>\n",
       "    </tr>\n",
       "    <tr>\n",
       "      <th>1227</th>\n",
       "      <td>144</td>\n",
       "      <td>145</td>\n",
       "      <td>Lebanon</td>\n",
       "      <td>Middle East and Northern Africa</td>\n",
       "      <td>2,955</td>\n",
       "      <td>1,392</td>\n",
       "      <td>0,498</td>\n",
       "      <td>0,631</td>\n",
       "      <td>0,103</td>\n",
       "      <td>0,034</td>\n",
       "      <td>0,082</td>\n",
       "      <td>2022</td>\n",
       "    </tr>\n",
       "    <tr>\n",
       "      <th>1228</th>\n",
       "      <td>145</td>\n",
       "      <td>146</td>\n",
       "      <td>Afghanistan</td>\n",
       "      <td>Southern Asia</td>\n",
       "      <td>2,404</td>\n",
       "      <td>0,758</td>\n",
       "      <td>0,000</td>\n",
       "      <td>0,289</td>\n",
       "      <td>0,000</td>\n",
       "      <td>0,005</td>\n",
       "      <td>0,089</td>\n",
       "      <td>2022</td>\n",
       "    </tr>\n",
       "  </tbody>\n",
       "</table>\n",
       "<p>1229 rows × 12 columns</p>\n",
       "</div>"
      ],
      "text/plain": [
       "      Unnamed: 0  Happiness Rank      Country  \\\n",
       "0              0               1  Switzerland   \n",
       "1              1               2      Iceland   \n",
       "2              2               3      Denmark   \n",
       "3              3               4       Norway   \n",
       "4              4               5       Canada   \n",
       "...          ...             ...          ...   \n",
       "1224         141             142    Botswana*   \n",
       "1225         142             143      Rwanda*   \n",
       "1226         143             144     Zimbabwe   \n",
       "1227         144             145      Lebanon   \n",
       "1228         145             146  Afghanistan   \n",
       "\n",
       "                               Region Happiness Score  \\\n",
       "0                      Western Europe           7.587   \n",
       "1                      Western Europe           7.561   \n",
       "2                      Western Europe           7.527   \n",
       "3                      Western Europe           7.522   \n",
       "4                       North America           7.427   \n",
       "...                               ...             ...   \n",
       "1224                                -           3,471   \n",
       "1225                                -           3,268   \n",
       "1226               Sub-Saharan Africa           2,995   \n",
       "1227  Middle East and Northern Africa           2,955   \n",
       "1228                    Southern Asia           2,404   \n",
       "\n",
       "     Economy (GDP per Capita) Family (Social Support)  \\\n",
       "0                     1.39651                 1.34951   \n",
       "1                     1.30232                 1.40223   \n",
       "2                     1.32548                 1.36058   \n",
       "3                       1.459                 1.33095   \n",
       "4                     1.32629                 1.32261   \n",
       "...                       ...                     ...   \n",
       "1224                    1,503                   0,815   \n",
       "1225                    0,785                   0,133   \n",
       "1226                    0,947                   0,690   \n",
       "1227                    1,392                   0,498   \n",
       "1228                    0,758                   0,000   \n",
       "\n",
       "     Health (Life Expectancy)  Freedom Trust (Government Corruption)  \\\n",
       "0                     0.94143  0.66557                       0.41978   \n",
       "1                     0.94784  0.62877                       0.14145   \n",
       "2                     0.87464  0.64938                       0.48357   \n",
       "3                     0.88521  0.66973                       0.36503   \n",
       "4                     0.90563  0.63297                       0.32957   \n",
       "...                       ...      ...                           ...   \n",
       "1224                    0,280    0,571                         0,102   \n",
       "1225                    0,462    0,621                         0,544   \n",
       "1226                    0,270    0,329                         0,105   \n",
       "1227                    0,631    0,103                         0,034   \n",
       "1228                    0,289    0,000                         0,005   \n",
       "\n",
       "     Generosity  Year  \n",
       "0       0.29678  2015  \n",
       "1        0.4363  2015  \n",
       "2       0.34139  2015  \n",
       "3       0.34699  2015  \n",
       "4       0.45811  2015  \n",
       "...         ...   ...  \n",
       "1224      0,012  2022  \n",
       "1225      0,187  2022  \n",
       "1226      0,106  2022  \n",
       "1227      0,082  2022  \n",
       "1228      0,089  2022  \n",
       "\n",
       "[1229 rows x 12 columns]"
      ]
     },
     "execution_count": 2,
     "metadata": {},
     "output_type": "execute_result"
    }
   ],
   "source": [
    "# Read in file\n",
    "happiness_df = pd.read_csv('world-happiness-report-2015-2022-cleaned.csv')\n",
    "happiness_df\n"
   ]
  },
  {
   "cell_type": "code",
   "execution_count": 3,
   "metadata": {},
   "outputs": [],
   "source": [
    "# Removing all regions marked with no value \"-\"  -Tye\n",
    "happiness_df.drop(\n",
    "    happiness_df[happiness_df['Region'] == \"-\"].index, inplace=True)\n"
   ]
  },
  {
   "cell_type": "code",
   "execution_count": 4,
   "metadata": {},
   "outputs": [],
   "source": [
    "# Converting Happiness Score to Float as some data contains (,) versus (.) as a decimal.-Tye\n",
    "happiness_df[\"Happiness Score\"] = happiness_df[\"Happiness Score\"].str.replace(\n",
    "    ',', '.').astype(float)\n"
   ]
  },
  {
   "cell_type": "code",
   "execution_count": 5,
   "metadata": {},
   "outputs": [
    {
     "data": {
      "text/plain": [
       "Unnamed: 0                         int64\n",
       "Happiness Rank                     int64\n",
       "Country                           object\n",
       "Region                            object\n",
       "Happiness Score                  float64\n",
       "Economy (GDP per Capita)          object\n",
       "Family (Social Support)           object\n",
       "Health (Life Expectancy)          object\n",
       "Freedom                           object\n",
       "Trust (Government Corruption)     object\n",
       "Generosity                        object\n",
       "Year                               int64\n",
       "dtype: object"
      ]
     },
     "execution_count": 5,
     "metadata": {},
     "output_type": "execute_result"
    }
   ],
   "source": [
    "happiness_df.dtypes\n"
   ]
  },
  {
   "cell_type": "code",
   "execution_count": 6,
   "metadata": {},
   "outputs": [
    {
     "data": {
      "text/plain": [
       "Unnamed: 0                       1183\n",
       "Happiness Rank                   1183\n",
       "Country                          1183\n",
       "Region                           1183\n",
       "Happiness Score                  1183\n",
       "Economy (GDP per Capita)         1183\n",
       "Family (Social Support)          1183\n",
       "Health (Life Expectancy)         1183\n",
       "Freedom                          1183\n",
       "Trust (Government Corruption)    1183\n",
       "Generosity                       1183\n",
       "Year                             1183\n",
       "dtype: int64"
      ]
     },
     "execution_count": 6,
     "metadata": {},
     "output_type": "execute_result"
    }
   ],
   "source": [
    "# complete data cleaning steps\n",
    "\n",
    "happiness_df.count()\n"
   ]
  },
  {
   "cell_type": "code",
   "execution_count": 7,
   "metadata": {},
   "outputs": [
    {
     "data": {
      "text/html": [
       "<div>\n",
       "<style scoped>\n",
       "    .dataframe tbody tr th:only-of-type {\n",
       "        vertical-align: middle;\n",
       "    }\n",
       "\n",
       "    .dataframe tbody tr th {\n",
       "        vertical-align: top;\n",
       "    }\n",
       "\n",
       "    .dataframe thead th {\n",
       "        text-align: right;\n",
       "    }\n",
       "</style>\n",
       "<table border=\"1\" class=\"dataframe\">\n",
       "  <thead>\n",
       "    <tr style=\"text-align: right;\">\n",
       "      <th></th>\n",
       "      <th>Unnamed: 0</th>\n",
       "      <th>Happiness Rank</th>\n",
       "      <th>Country</th>\n",
       "      <th>Region</th>\n",
       "      <th>Happiness Score</th>\n",
       "      <th>Economy (GDP per Capita)</th>\n",
       "      <th>Family (Social Support)</th>\n",
       "      <th>Health (Life Expectancy)</th>\n",
       "      <th>Freedom</th>\n",
       "      <th>Trust (Government Corruption)</th>\n",
       "      <th>Generosity</th>\n",
       "      <th>Year</th>\n",
       "    </tr>\n",
       "  </thead>\n",
       "  <tbody>\n",
       "    <tr>\n",
       "      <th>0</th>\n",
       "      <td>0</td>\n",
       "      <td>1</td>\n",
       "      <td>Switzerland</td>\n",
       "      <td>Western Europe</td>\n",
       "      <td>7.587</td>\n",
       "      <td>1.39651</td>\n",
       "      <td>1.34951</td>\n",
       "      <td>0.94143</td>\n",
       "      <td>0.66557</td>\n",
       "      <td>0.41978</td>\n",
       "      <td>0.29678</td>\n",
       "      <td>2015</td>\n",
       "    </tr>\n",
       "    <tr>\n",
       "      <th>1</th>\n",
       "      <td>1</td>\n",
       "      <td>2</td>\n",
       "      <td>Iceland</td>\n",
       "      <td>Western Europe</td>\n",
       "      <td>7.561</td>\n",
       "      <td>1.30232</td>\n",
       "      <td>1.40223</td>\n",
       "      <td>0.94784</td>\n",
       "      <td>0.62877</td>\n",
       "      <td>0.14145</td>\n",
       "      <td>0.4363</td>\n",
       "      <td>2015</td>\n",
       "    </tr>\n",
       "    <tr>\n",
       "      <th>2</th>\n",
       "      <td>2</td>\n",
       "      <td>3</td>\n",
       "      <td>Denmark</td>\n",
       "      <td>Western Europe</td>\n",
       "      <td>7.527</td>\n",
       "      <td>1.32548</td>\n",
       "      <td>1.36058</td>\n",
       "      <td>0.87464</td>\n",
       "      <td>0.64938</td>\n",
       "      <td>0.48357</td>\n",
       "      <td>0.34139</td>\n",
       "      <td>2015</td>\n",
       "    </tr>\n",
       "    <tr>\n",
       "      <th>3</th>\n",
       "      <td>3</td>\n",
       "      <td>4</td>\n",
       "      <td>Norway</td>\n",
       "      <td>Western Europe</td>\n",
       "      <td>7.522</td>\n",
       "      <td>1.459</td>\n",
       "      <td>1.33095</td>\n",
       "      <td>0.88521</td>\n",
       "      <td>0.66973</td>\n",
       "      <td>0.36503</td>\n",
       "      <td>0.34699</td>\n",
       "      <td>2015</td>\n",
       "    </tr>\n",
       "    <tr>\n",
       "      <th>4</th>\n",
       "      <td>4</td>\n",
       "      <td>5</td>\n",
       "      <td>Canada</td>\n",
       "      <td>North America</td>\n",
       "      <td>7.427</td>\n",
       "      <td>1.32629</td>\n",
       "      <td>1.32261</td>\n",
       "      <td>0.90563</td>\n",
       "      <td>0.63297</td>\n",
       "      <td>0.32957</td>\n",
       "      <td>0.45811</td>\n",
       "      <td>2015</td>\n",
       "    </tr>\n",
       "    <tr>\n",
       "      <th>...</th>\n",
       "      <td>...</td>\n",
       "      <td>...</td>\n",
       "      <td>...</td>\n",
       "      <td>...</td>\n",
       "      <td>...</td>\n",
       "      <td>...</td>\n",
       "      <td>...</td>\n",
       "      <td>...</td>\n",
       "      <td>...</td>\n",
       "      <td>...</td>\n",
       "      <td>...</td>\n",
       "      <td>...</td>\n",
       "    </tr>\n",
       "    <tr>\n",
       "      <th>1221</th>\n",
       "      <td>138</td>\n",
       "      <td>139</td>\n",
       "      <td>Tanzania</td>\n",
       "      <td>Sub-Saharan Africa</td>\n",
       "      <td>3.702</td>\n",
       "      <td>0,848</td>\n",
       "      <td>0,597</td>\n",
       "      <td>0,425</td>\n",
       "      <td>0,578</td>\n",
       "      <td>0,270</td>\n",
       "      <td>0,248</td>\n",
       "      <td>2022</td>\n",
       "    </tr>\n",
       "    <tr>\n",
       "      <th>1222</th>\n",
       "      <td>139</td>\n",
       "      <td>140</td>\n",
       "      <td>Sierra Leone</td>\n",
       "      <td>Sub-Saharan Africa</td>\n",
       "      <td>3.574</td>\n",
       "      <td>0,686</td>\n",
       "      <td>0,416</td>\n",
       "      <td>0,273</td>\n",
       "      <td>0,387</td>\n",
       "      <td>0,055</td>\n",
       "      <td>0,202</td>\n",
       "      <td>2022</td>\n",
       "    </tr>\n",
       "    <tr>\n",
       "      <th>1226</th>\n",
       "      <td>143</td>\n",
       "      <td>144</td>\n",
       "      <td>Zimbabwe</td>\n",
       "      <td>Sub-Saharan Africa</td>\n",
       "      <td>2.995</td>\n",
       "      <td>0,947</td>\n",
       "      <td>0,690</td>\n",
       "      <td>0,270</td>\n",
       "      <td>0,329</td>\n",
       "      <td>0,105</td>\n",
       "      <td>0,106</td>\n",
       "      <td>2022</td>\n",
       "    </tr>\n",
       "    <tr>\n",
       "      <th>1227</th>\n",
       "      <td>144</td>\n",
       "      <td>145</td>\n",
       "      <td>Lebanon</td>\n",
       "      <td>Middle East and Northern Africa</td>\n",
       "      <td>2.955</td>\n",
       "      <td>1,392</td>\n",
       "      <td>0,498</td>\n",
       "      <td>0,631</td>\n",
       "      <td>0,103</td>\n",
       "      <td>0,034</td>\n",
       "      <td>0,082</td>\n",
       "      <td>2022</td>\n",
       "    </tr>\n",
       "    <tr>\n",
       "      <th>1228</th>\n",
       "      <td>145</td>\n",
       "      <td>146</td>\n",
       "      <td>Afghanistan</td>\n",
       "      <td>Southern Asia</td>\n",
       "      <td>2.404</td>\n",
       "      <td>0,758</td>\n",
       "      <td>0,000</td>\n",
       "      <td>0,289</td>\n",
       "      <td>0,000</td>\n",
       "      <td>0,005</td>\n",
       "      <td>0,089</td>\n",
       "      <td>2022</td>\n",
       "    </tr>\n",
       "  </tbody>\n",
       "</table>\n",
       "<p>1183 rows × 12 columns</p>\n",
       "</div>"
      ],
      "text/plain": [
       "      Unnamed: 0  Happiness Rank       Country  \\\n",
       "0              0               1   Switzerland   \n",
       "1              1               2       Iceland   \n",
       "2              2               3       Denmark   \n",
       "3              3               4        Norway   \n",
       "4              4               5        Canada   \n",
       "...          ...             ...           ...   \n",
       "1221         138             139      Tanzania   \n",
       "1222         139             140  Sierra Leone   \n",
       "1226         143             144      Zimbabwe   \n",
       "1227         144             145       Lebanon   \n",
       "1228         145             146   Afghanistan   \n",
       "\n",
       "                               Region  Happiness Score  \\\n",
       "0                      Western Europe            7.587   \n",
       "1                      Western Europe            7.561   \n",
       "2                      Western Europe            7.527   \n",
       "3                      Western Europe            7.522   \n",
       "4                       North America            7.427   \n",
       "...                               ...              ...   \n",
       "1221               Sub-Saharan Africa            3.702   \n",
       "1222               Sub-Saharan Africa            3.574   \n",
       "1226               Sub-Saharan Africa            2.995   \n",
       "1227  Middle East and Northern Africa            2.955   \n",
       "1228                    Southern Asia            2.404   \n",
       "\n",
       "     Economy (GDP per Capita) Family (Social Support)  \\\n",
       "0                     1.39651                 1.34951   \n",
       "1                     1.30232                 1.40223   \n",
       "2                     1.32548                 1.36058   \n",
       "3                       1.459                 1.33095   \n",
       "4                     1.32629                 1.32261   \n",
       "...                       ...                     ...   \n",
       "1221                    0,848                   0,597   \n",
       "1222                    0,686                   0,416   \n",
       "1226                    0,947                   0,690   \n",
       "1227                    1,392                   0,498   \n",
       "1228                    0,758                   0,000   \n",
       "\n",
       "     Health (Life Expectancy)  Freedom Trust (Government Corruption)  \\\n",
       "0                     0.94143  0.66557                       0.41978   \n",
       "1                     0.94784  0.62877                       0.14145   \n",
       "2                     0.87464  0.64938                       0.48357   \n",
       "3                     0.88521  0.66973                       0.36503   \n",
       "4                     0.90563  0.63297                       0.32957   \n",
       "...                       ...      ...                           ...   \n",
       "1221                    0,425    0,578                         0,270   \n",
       "1222                    0,273    0,387                         0,055   \n",
       "1226                    0,270    0,329                         0,105   \n",
       "1227                    0,631    0,103                         0,034   \n",
       "1228                    0,289    0,000                         0,005   \n",
       "\n",
       "     Generosity  Year  \n",
       "0       0.29678  2015  \n",
       "1        0.4363  2015  \n",
       "2       0.34139  2015  \n",
       "3       0.34699  2015  \n",
       "4       0.45811  2015  \n",
       "...         ...   ...  \n",
       "1221      0,248  2022  \n",
       "1222      0,202  2022  \n",
       "1226      0,106  2022  \n",
       "1227      0,082  2022  \n",
       "1228      0,089  2022  \n",
       "\n",
       "[1183 rows x 12 columns]"
      ]
     },
     "execution_count": 7,
     "metadata": {},
     "output_type": "execute_result"
    }
   ],
   "source": [
    "# Looking at dataframe -Lauren\n",
    "happiness_df\n"
   ]
  },
  {
   "cell_type": "code",
   "execution_count": 8,
   "metadata": {},
   "outputs": [
    {
     "data": {
      "text/html": [
       "<div>\n",
       "<style scoped>\n",
       "    .dataframe tbody tr th:only-of-type {\n",
       "        vertical-align: middle;\n",
       "    }\n",
       "\n",
       "    .dataframe tbody tr th {\n",
       "        vertical-align: top;\n",
       "    }\n",
       "\n",
       "    .dataframe thead th {\n",
       "        text-align: right;\n",
       "    }\n",
       "</style>\n",
       "<table border=\"1\" class=\"dataframe\">\n",
       "  <thead>\n",
       "    <tr style=\"text-align: right;\">\n",
       "      <th></th>\n",
       "      <th>Unnamed: 0</th>\n",
       "      <th>Happiness Rank</th>\n",
       "      <th>Country</th>\n",
       "      <th>Region</th>\n",
       "      <th>Happiness Score</th>\n",
       "      <th>Economy (GDP per Capita)</th>\n",
       "      <th>Family (Social Support)</th>\n",
       "      <th>Health (Life Expectancy)</th>\n",
       "      <th>Freedom</th>\n",
       "      <th>Trust (Government Corruption)</th>\n",
       "      <th>Generosity</th>\n",
       "      <th>Year</th>\n",
       "    </tr>\n",
       "  </thead>\n",
       "  <tbody>\n",
       "    <tr>\n",
       "      <th>0</th>\n",
       "      <td>0</td>\n",
       "      <td>1</td>\n",
       "      <td>Switzerland</td>\n",
       "      <td>Western Europe</td>\n",
       "      <td>7.587</td>\n",
       "      <td>1.39651</td>\n",
       "      <td>1.34951</td>\n",
       "      <td>0.94143</td>\n",
       "      <td>0.66557</td>\n",
       "      <td>0.41978</td>\n",
       "      <td>0.29678</td>\n",
       "      <td>2015</td>\n",
       "    </tr>\n",
       "    <tr>\n",
       "      <th>1</th>\n",
       "      <td>1</td>\n",
       "      <td>2</td>\n",
       "      <td>Iceland</td>\n",
       "      <td>Western Europe</td>\n",
       "      <td>7.561</td>\n",
       "      <td>1.30232</td>\n",
       "      <td>1.40223</td>\n",
       "      <td>0.94784</td>\n",
       "      <td>0.62877</td>\n",
       "      <td>0.14145</td>\n",
       "      <td>0.4363</td>\n",
       "      <td>2015</td>\n",
       "    </tr>\n",
       "    <tr>\n",
       "      <th>2</th>\n",
       "      <td>2</td>\n",
       "      <td>3</td>\n",
       "      <td>Denmark</td>\n",
       "      <td>Western Europe</td>\n",
       "      <td>7.527</td>\n",
       "      <td>1.32548</td>\n",
       "      <td>1.36058</td>\n",
       "      <td>0.87464</td>\n",
       "      <td>0.64938</td>\n",
       "      <td>0.48357</td>\n",
       "      <td>0.34139</td>\n",
       "      <td>2015</td>\n",
       "    </tr>\n",
       "    <tr>\n",
       "      <th>3</th>\n",
       "      <td>3</td>\n",
       "      <td>4</td>\n",
       "      <td>Norway</td>\n",
       "      <td>Western Europe</td>\n",
       "      <td>7.522</td>\n",
       "      <td>1.459</td>\n",
       "      <td>1.33095</td>\n",
       "      <td>0.88521</td>\n",
       "      <td>0.66973</td>\n",
       "      <td>0.36503</td>\n",
       "      <td>0.34699</td>\n",
       "      <td>2015</td>\n",
       "    </tr>\n",
       "    <tr>\n",
       "      <th>4</th>\n",
       "      <td>4</td>\n",
       "      <td>5</td>\n",
       "      <td>Canada</td>\n",
       "      <td>North America</td>\n",
       "      <td>7.427</td>\n",
       "      <td>1.32629</td>\n",
       "      <td>1.32261</td>\n",
       "      <td>0.90563</td>\n",
       "      <td>0.63297</td>\n",
       "      <td>0.32957</td>\n",
       "      <td>0.45811</td>\n",
       "      <td>2015</td>\n",
       "    </tr>\n",
       "    <tr>\n",
       "      <th>...</th>\n",
       "      <td>...</td>\n",
       "      <td>...</td>\n",
       "      <td>...</td>\n",
       "      <td>...</td>\n",
       "      <td>...</td>\n",
       "      <td>...</td>\n",
       "      <td>...</td>\n",
       "      <td>...</td>\n",
       "      <td>...</td>\n",
       "      <td>...</td>\n",
       "      <td>...</td>\n",
       "      <td>...</td>\n",
       "    </tr>\n",
       "    <tr>\n",
       "      <th>1221</th>\n",
       "      <td>138</td>\n",
       "      <td>139</td>\n",
       "      <td>Tanzania</td>\n",
       "      <td>Sub-Saharan Africa</td>\n",
       "      <td>3.702</td>\n",
       "      <td>0,848</td>\n",
       "      <td>0,597</td>\n",
       "      <td>0,425</td>\n",
       "      <td>0,578</td>\n",
       "      <td>0,270</td>\n",
       "      <td>0,248</td>\n",
       "      <td>2022</td>\n",
       "    </tr>\n",
       "    <tr>\n",
       "      <th>1222</th>\n",
       "      <td>139</td>\n",
       "      <td>140</td>\n",
       "      <td>Sierra Leone</td>\n",
       "      <td>Sub-Saharan Africa</td>\n",
       "      <td>3.574</td>\n",
       "      <td>0,686</td>\n",
       "      <td>0,416</td>\n",
       "      <td>0,273</td>\n",
       "      <td>0,387</td>\n",
       "      <td>0,055</td>\n",
       "      <td>0,202</td>\n",
       "      <td>2022</td>\n",
       "    </tr>\n",
       "    <tr>\n",
       "      <th>1226</th>\n",
       "      <td>143</td>\n",
       "      <td>144</td>\n",
       "      <td>Zimbabwe</td>\n",
       "      <td>Sub-Saharan Africa</td>\n",
       "      <td>2.995</td>\n",
       "      <td>0,947</td>\n",
       "      <td>0,690</td>\n",
       "      <td>0,270</td>\n",
       "      <td>0,329</td>\n",
       "      <td>0,105</td>\n",
       "      <td>0,106</td>\n",
       "      <td>2022</td>\n",
       "    </tr>\n",
       "    <tr>\n",
       "      <th>1227</th>\n",
       "      <td>144</td>\n",
       "      <td>145</td>\n",
       "      <td>Lebanon</td>\n",
       "      <td>Middle East and Northern Africa</td>\n",
       "      <td>2.955</td>\n",
       "      <td>1,392</td>\n",
       "      <td>0,498</td>\n",
       "      <td>0,631</td>\n",
       "      <td>0,103</td>\n",
       "      <td>0,034</td>\n",
       "      <td>0,082</td>\n",
       "      <td>2022</td>\n",
       "    </tr>\n",
       "    <tr>\n",
       "      <th>1228</th>\n",
       "      <td>145</td>\n",
       "      <td>146</td>\n",
       "      <td>Afghanistan</td>\n",
       "      <td>Southern Asia</td>\n",
       "      <td>2.404</td>\n",
       "      <td>0,758</td>\n",
       "      <td>0,000</td>\n",
       "      <td>0,289</td>\n",
       "      <td>0,000</td>\n",
       "      <td>0,005</td>\n",
       "      <td>0,089</td>\n",
       "      <td>2022</td>\n",
       "    </tr>\n",
       "  </tbody>\n",
       "</table>\n",
       "<p>1183 rows × 12 columns</p>\n",
       "</div>"
      ],
      "text/plain": [
       "      Unnamed: 0  Happiness Rank       Country  \\\n",
       "0              0               1   Switzerland   \n",
       "1              1               2       Iceland   \n",
       "2              2               3       Denmark   \n",
       "3              3               4        Norway   \n",
       "4              4               5        Canada   \n",
       "...          ...             ...           ...   \n",
       "1221         138             139      Tanzania   \n",
       "1222         139             140  Sierra Leone   \n",
       "1226         143             144      Zimbabwe   \n",
       "1227         144             145       Lebanon   \n",
       "1228         145             146   Afghanistan   \n",
       "\n",
       "                               Region  Happiness Score  \\\n",
       "0                      Western Europe            7.587   \n",
       "1                      Western Europe            7.561   \n",
       "2                      Western Europe            7.527   \n",
       "3                      Western Europe            7.522   \n",
       "4                       North America            7.427   \n",
       "...                               ...              ...   \n",
       "1221               Sub-Saharan Africa            3.702   \n",
       "1222               Sub-Saharan Africa            3.574   \n",
       "1226               Sub-Saharan Africa            2.995   \n",
       "1227  Middle East and Northern Africa            2.955   \n",
       "1228                    Southern Asia            2.404   \n",
       "\n",
       "     Economy (GDP per Capita) Family (Social Support)  \\\n",
       "0                     1.39651                 1.34951   \n",
       "1                     1.30232                 1.40223   \n",
       "2                     1.32548                 1.36058   \n",
       "3                       1.459                 1.33095   \n",
       "4                     1.32629                 1.32261   \n",
       "...                       ...                     ...   \n",
       "1221                    0,848                   0,597   \n",
       "1222                    0,686                   0,416   \n",
       "1226                    0,947                   0,690   \n",
       "1227                    1,392                   0,498   \n",
       "1228                    0,758                   0,000   \n",
       "\n",
       "     Health (Life Expectancy)  Freedom Trust (Government Corruption)  \\\n",
       "0                     0.94143  0.66557                       0.41978   \n",
       "1                     0.94784  0.62877                       0.14145   \n",
       "2                     0.87464  0.64938                       0.48357   \n",
       "3                     0.88521  0.66973                       0.36503   \n",
       "4                     0.90563  0.63297                       0.32957   \n",
       "...                       ...      ...                           ...   \n",
       "1221                    0,425    0,578                         0,270   \n",
       "1222                    0,273    0,387                         0,055   \n",
       "1226                    0,270    0,329                         0,105   \n",
       "1227                    0,631    0,103                         0,034   \n",
       "1228                    0,289    0,000                         0,005   \n",
       "\n",
       "     Generosity  Year  \n",
       "0       0.29678  2015  \n",
       "1        0.4363  2015  \n",
       "2       0.34139  2015  \n",
       "3       0.34699  2015  \n",
       "4       0.45811  2015  \n",
       "...         ...   ...  \n",
       "1221      0,248  2022  \n",
       "1222      0,202  2022  \n",
       "1226      0,106  2022  \n",
       "1227      0,082  2022  \n",
       "1228      0,089  2022  \n",
       "\n",
       "[1183 rows x 12 columns]"
      ]
     },
     "execution_count": 8,
     "metadata": {},
     "output_type": "execute_result"
    }
   ],
   "source": [
    "# Make a copy of happiness_df -Lauren\n",
    "reduced_happiness_df = happiness_df.copy()\n",
    "reduced_happiness_df\n"
   ]
  },
  {
   "cell_type": "code",
   "execution_count": 9,
   "metadata": {},
   "outputs": [
    {
     "data": {
      "text/html": [
       "<div>\n",
       "<style scoped>\n",
       "    .dataframe tbody tr th:only-of-type {\n",
       "        vertical-align: middle;\n",
       "    }\n",
       "\n",
       "    .dataframe tbody tr th {\n",
       "        vertical-align: top;\n",
       "    }\n",
       "\n",
       "    .dataframe thead th {\n",
       "        text-align: right;\n",
       "    }\n",
       "</style>\n",
       "<table border=\"1\" class=\"dataframe\">\n",
       "  <thead>\n",
       "    <tr style=\"text-align: right;\">\n",
       "      <th></th>\n",
       "      <th>Country</th>\n",
       "      <th>Happiness Score</th>\n",
       "      <th>Year</th>\n",
       "    </tr>\n",
       "  </thead>\n",
       "  <tbody>\n",
       "    <tr>\n",
       "      <th>0</th>\n",
       "      <td>Switzerland</td>\n",
       "      <td>7.587</td>\n",
       "      <td>2015</td>\n",
       "    </tr>\n",
       "    <tr>\n",
       "      <th>1</th>\n",
       "      <td>Iceland</td>\n",
       "      <td>7.561</td>\n",
       "      <td>2015</td>\n",
       "    </tr>\n",
       "    <tr>\n",
       "      <th>2</th>\n",
       "      <td>Denmark</td>\n",
       "      <td>7.527</td>\n",
       "      <td>2015</td>\n",
       "    </tr>\n",
       "    <tr>\n",
       "      <th>3</th>\n",
       "      <td>Norway</td>\n",
       "      <td>7.522</td>\n",
       "      <td>2015</td>\n",
       "    </tr>\n",
       "    <tr>\n",
       "      <th>4</th>\n",
       "      <td>Canada</td>\n",
       "      <td>7.427</td>\n",
       "      <td>2015</td>\n",
       "    </tr>\n",
       "    <tr>\n",
       "      <th>...</th>\n",
       "      <td>...</td>\n",
       "      <td>...</td>\n",
       "      <td>...</td>\n",
       "    </tr>\n",
       "    <tr>\n",
       "      <th>1221</th>\n",
       "      <td>Tanzania</td>\n",
       "      <td>3.702</td>\n",
       "      <td>2022</td>\n",
       "    </tr>\n",
       "    <tr>\n",
       "      <th>1222</th>\n",
       "      <td>Sierra Leone</td>\n",
       "      <td>3.574</td>\n",
       "      <td>2022</td>\n",
       "    </tr>\n",
       "    <tr>\n",
       "      <th>1226</th>\n",
       "      <td>Zimbabwe</td>\n",
       "      <td>2.995</td>\n",
       "      <td>2022</td>\n",
       "    </tr>\n",
       "    <tr>\n",
       "      <th>1227</th>\n",
       "      <td>Lebanon</td>\n",
       "      <td>2.955</td>\n",
       "      <td>2022</td>\n",
       "    </tr>\n",
       "    <tr>\n",
       "      <th>1228</th>\n",
       "      <td>Afghanistan</td>\n",
       "      <td>2.404</td>\n",
       "      <td>2022</td>\n",
       "    </tr>\n",
       "  </tbody>\n",
       "</table>\n",
       "<p>1183 rows × 3 columns</p>\n",
       "</div>"
      ],
      "text/plain": [
       "           Country  Happiness Score  Year\n",
       "0      Switzerland            7.587  2015\n",
       "1          Iceland            7.561  2015\n",
       "2          Denmark            7.527  2015\n",
       "3           Norway            7.522  2015\n",
       "4           Canada            7.427  2015\n",
       "...            ...              ...   ...\n",
       "1221      Tanzania            3.702  2022\n",
       "1222  Sierra Leone            3.574  2022\n",
       "1226      Zimbabwe            2.995  2022\n",
       "1227       Lebanon            2.955  2022\n",
       "1228   Afghanistan            2.404  2022\n",
       "\n",
       "[1183 rows x 3 columns]"
      ]
     },
     "execution_count": 9,
     "metadata": {},
     "output_type": "execute_result"
    }
   ],
   "source": [
    "# Reduce dataframe to Country, Happiness Score and Year -Lauren\n",
    "reduced_happiness_df = reduced_happiness_df[[\n",
    "    \"Country\", \"Happiness Score\", \"Year\"]]\n",
    "reduced_happiness_df\n"
   ]
  },
  {
   "cell_type": "code",
   "execution_count": 10,
   "metadata": {},
   "outputs": [
    {
     "data": {
      "text/plain": [
       "Country\n",
       "Switzerland    7.587\n",
       "Iceland        7.561\n",
       "Denmark        7.527\n",
       "Norway         7.522\n",
       "Canada         7.427\n",
       "               ...  \n",
       "Rwanda         3.465\n",
       "Benin          3.340\n",
       "Syria          3.006\n",
       "Burundi        2.905\n",
       "Togo           2.839\n",
       "Name: Happiness Score, Length: 158, dtype: float64"
      ]
     },
     "execution_count": 10,
     "metadata": {},
     "output_type": "execute_result"
    }
   ],
   "source": [
    "# Extract data for only 2015 and put in decending order -Lauren\n",
    "top_2015 = reduced_happiness_df[reduced_happiness_df['Year'] == 2015].groupby(\n",
    "    reduced_happiness_df.Country).max()[\"Happiness Score\"]\n",
    "top_2015_df = top_2015.sort_values(ascending=False)\n",
    "\n",
    "top_2015_df\n"
   ]
  },
  {
   "cell_type": "code",
   "execution_count": 11,
   "metadata": {},
   "outputs": [
    {
     "data": {
      "text/plain": [
       "Country\n",
       "Switzerland    7.587\n",
       "Togo           2.839\n",
       "Name: Happiness Score, dtype: float64"
      ]
     },
     "execution_count": 11,
     "metadata": {},
     "output_type": "execute_result"
    }
   ],
   "source": [
    "# Extract first and last value of dataset -Lauren\n",
    "df2015 = top_2015_df.iloc[[0, -1]]\n",
    "df2015\n"
   ]
  },
  {
   "cell_type": "code",
   "execution_count": 12,
   "metadata": {},
   "outputs": [],
   "source": [
    "# Reset index and convert to pandas -Lauren\n",
    "df2015 = pd.DataFrame(df2015).reset_index()\n"
   ]
  },
  {
   "cell_type": "code",
   "execution_count": 13,
   "metadata": {},
   "outputs": [
    {
     "data": {
      "text/html": [
       "<div>\n",
       "<style scoped>\n",
       "    .dataframe tbody tr th:only-of-type {\n",
       "        vertical-align: middle;\n",
       "    }\n",
       "\n",
       "    .dataframe tbody tr th {\n",
       "        vertical-align: top;\n",
       "    }\n",
       "\n",
       "    .dataframe thead th {\n",
       "        text-align: right;\n",
       "    }\n",
       "</style>\n",
       "<table border=\"1\" class=\"dataframe\">\n",
       "  <thead>\n",
       "    <tr style=\"text-align: right;\">\n",
       "      <th></th>\n",
       "      <th>Country</th>\n",
       "      <th>Happiness Score</th>\n",
       "      <th>Year</th>\n",
       "    </tr>\n",
       "  </thead>\n",
       "  <tbody>\n",
       "    <tr>\n",
       "      <th>0</th>\n",
       "      <td>Switzerland</td>\n",
       "      <td>7.587</td>\n",
       "      <td>2015</td>\n",
       "    </tr>\n",
       "    <tr>\n",
       "      <th>1</th>\n",
       "      <td>Togo</td>\n",
       "      <td>2.839</td>\n",
       "      <td>2015</td>\n",
       "    </tr>\n",
       "  </tbody>\n",
       "</table>\n",
       "</div>"
      ],
      "text/plain": [
       "       Country  Happiness Score  Year\n",
       "0  Switzerland            7.587  2015\n",
       "1         Togo            2.839  2015"
      ]
     },
     "execution_count": 13,
     "metadata": {},
     "output_type": "execute_result"
    }
   ],
   "source": [
    "# Add \"Year\" column -Lauren\n",
    "df2015[\"Year\"] = [2015, 2015]\n",
    "df2015\n"
   ]
  },
  {
   "cell_type": "code",
   "execution_count": 14,
   "metadata": {},
   "outputs": [
    {
     "data": {
      "text/plain": [
       "Country\n",
       "Denmark        7.526\n",
       "Switzerland    7.509\n",
       "Iceland        7.501\n",
       "Norway         7.498\n",
       "Finland        7.413\n",
       "               ...  \n",
       "Benin          3.484\n",
       "Afghanistan    3.360\n",
       "Togo           3.303\n",
       "Syria          3.069\n",
       "Burundi        2.905\n",
       "Name: Happiness Score, Length: 157, dtype: float64"
      ]
     },
     "execution_count": 14,
     "metadata": {},
     "output_type": "execute_result"
    }
   ],
   "source": [
    "# Extract data for only 2016 and put in decending order -Lauren\n",
    "top_2016 = happiness_df[happiness_df['Year'] == 2016].groupby(\n",
    "    happiness_df.Country).max()[\"Happiness Score\"]\n",
    "top_2016_df = top_2016.sort_values(ascending=False)\n",
    "\n",
    "top_2016_df\n"
   ]
  },
  {
   "cell_type": "code",
   "execution_count": 15,
   "metadata": {},
   "outputs": [
    {
     "data": {
      "text/plain": [
       "Country\n",
       "Denmark    7.526\n",
       "Burundi    2.905\n",
       "Name: Happiness Score, dtype: float64"
      ]
     },
     "execution_count": 15,
     "metadata": {},
     "output_type": "execute_result"
    }
   ],
   "source": [
    "# Extract first and last value of dataset -Lauren\n",
    "df2016 = top_2016_df.iloc[[0, -1]]\n",
    "df2016\n"
   ]
  },
  {
   "cell_type": "code",
   "execution_count": 16,
   "metadata": {},
   "outputs": [],
   "source": [
    "# Reset index and convert to pandas -Lauren\n",
    "df2016 = pd.DataFrame(df2016).reset_index()\n"
   ]
  },
  {
   "cell_type": "code",
   "execution_count": 17,
   "metadata": {},
   "outputs": [
    {
     "data": {
      "text/html": [
       "<div>\n",
       "<style scoped>\n",
       "    .dataframe tbody tr th:only-of-type {\n",
       "        vertical-align: middle;\n",
       "    }\n",
       "\n",
       "    .dataframe tbody tr th {\n",
       "        vertical-align: top;\n",
       "    }\n",
       "\n",
       "    .dataframe thead th {\n",
       "        text-align: right;\n",
       "    }\n",
       "</style>\n",
       "<table border=\"1\" class=\"dataframe\">\n",
       "  <thead>\n",
       "    <tr style=\"text-align: right;\">\n",
       "      <th></th>\n",
       "      <th>Country</th>\n",
       "      <th>Happiness Score</th>\n",
       "      <th>Year</th>\n",
       "    </tr>\n",
       "  </thead>\n",
       "  <tbody>\n",
       "    <tr>\n",
       "      <th>0</th>\n",
       "      <td>Denmark</td>\n",
       "      <td>7.526</td>\n",
       "      <td>2016</td>\n",
       "    </tr>\n",
       "    <tr>\n",
       "      <th>1</th>\n",
       "      <td>Burundi</td>\n",
       "      <td>2.905</td>\n",
       "      <td>2016</td>\n",
       "    </tr>\n",
       "  </tbody>\n",
       "</table>\n",
       "</div>"
      ],
      "text/plain": [
       "   Country  Happiness Score  Year\n",
       "0  Denmark            7.526  2016\n",
       "1  Burundi            2.905  2016"
      ]
     },
     "execution_count": 17,
     "metadata": {},
     "output_type": "execute_result"
    }
   ],
   "source": [
    "# Add \"Year\" column -Lauren\n",
    "df2016[\"Year\"] = [2016, 2016]\n",
    "df2016\n"
   ]
  },
  {
   "cell_type": "code",
   "execution_count": 18,
   "metadata": {},
   "outputs": [
    {
     "data": {
      "text/plain": [
       "Country\n",
       "Norway                      7.537\n",
       "Denmark                     7.522\n",
       "Iceland                     7.504\n",
       "Switzerland                 7.494\n",
       "Finland                     7.469\n",
       "                            ...  \n",
       "Rwanda                      3.471\n",
       "Syria                       3.462\n",
       "Tanzania                    3.349\n",
       "Burundi                     2.905\n",
       "Central African Republic    2.693\n",
       "Name: Happiness Score, Length: 149, dtype: float64"
      ]
     },
     "execution_count": 18,
     "metadata": {},
     "output_type": "execute_result"
    }
   ],
   "source": [
    "# Extract data for only 2017 and put in decending order -Lauren\n",
    "top_2017 = happiness_df[happiness_df['Year'] == 2017].groupby(\n",
    "    happiness_df.Country).max()[\"Happiness Score\"]\n",
    "top_2017_df = top_2017.sort_values(ascending=False)\n",
    "\n",
    "top_2017_df\n"
   ]
  },
  {
   "cell_type": "code",
   "execution_count": 19,
   "metadata": {},
   "outputs": [
    {
     "data": {
      "text/plain": [
       "Country\n",
       "Norway                      7.537\n",
       "Central African Republic    2.693\n",
       "Name: Happiness Score, dtype: float64"
      ]
     },
     "execution_count": 19,
     "metadata": {},
     "output_type": "execute_result"
    }
   ],
   "source": [
    "# Extract first and last value of dataset -Lauren\n",
    "df2017 = top_2017_df.iloc[[0, -1]]\n",
    "df2017\n"
   ]
  },
  {
   "cell_type": "code",
   "execution_count": 20,
   "metadata": {},
   "outputs": [],
   "source": [
    "# Reset index and convert to pandas -Lauren\n",
    "df2017 = pd.DataFrame(df2017).reset_index()\n"
   ]
  },
  {
   "cell_type": "code",
   "execution_count": 21,
   "metadata": {},
   "outputs": [
    {
     "data": {
      "text/html": [
       "<div>\n",
       "<style scoped>\n",
       "    .dataframe tbody tr th:only-of-type {\n",
       "        vertical-align: middle;\n",
       "    }\n",
       "\n",
       "    .dataframe tbody tr th {\n",
       "        vertical-align: top;\n",
       "    }\n",
       "\n",
       "    .dataframe thead th {\n",
       "        text-align: right;\n",
       "    }\n",
       "</style>\n",
       "<table border=\"1\" class=\"dataframe\">\n",
       "  <thead>\n",
       "    <tr style=\"text-align: right;\">\n",
       "      <th></th>\n",
       "      <th>Country</th>\n",
       "      <th>Happiness Score</th>\n",
       "      <th>Year</th>\n",
       "    </tr>\n",
       "  </thead>\n",
       "  <tbody>\n",
       "    <tr>\n",
       "      <th>0</th>\n",
       "      <td>Norway</td>\n",
       "      <td>7.537</td>\n",
       "      <td>2017</td>\n",
       "    </tr>\n",
       "    <tr>\n",
       "      <th>1</th>\n",
       "      <td>Central African Republic</td>\n",
       "      <td>2.693</td>\n",
       "      <td>2017</td>\n",
       "    </tr>\n",
       "  </tbody>\n",
       "</table>\n",
       "</div>"
      ],
      "text/plain": [
       "                    Country  Happiness Score  Year\n",
       "0                    Norway            7.537  2017\n",
       "1  Central African Republic            2.693  2017"
      ]
     },
     "execution_count": 21,
     "metadata": {},
     "output_type": "execute_result"
    }
   ],
   "source": [
    "# Add \"Year\" column -Lauren\n",
    "df2017[\"Year\"] = [2017, 2017]\n",
    "df2017\n"
   ]
  },
  {
   "cell_type": "code",
   "execution_count": 22,
   "metadata": {},
   "outputs": [
    {
     "data": {
      "text/plain": [
       "Country\n",
       "Finland                     7.632\n",
       "Norway                      7.594\n",
       "Denmark                     7.555\n",
       "Iceland                     7.495\n",
       "Switzerland                 7.487\n",
       "                            ...  \n",
       "Rwanda                      3.408\n",
       "Yemen                       3.355\n",
       "Tanzania                    3.303\n",
       "Central African Republic    3.083\n",
       "Burundi                     2.905\n",
       "Name: Happiness Score, Length: 149, dtype: float64"
      ]
     },
     "execution_count": 22,
     "metadata": {},
     "output_type": "execute_result"
    }
   ],
   "source": [
    "# Extract data for only 2018 and put in decending order -Lauren\n",
    "top_2018 = happiness_df[happiness_df['Year'] == 2018].groupby(\n",
    "    happiness_df.Country).max()[\"Happiness Score\"]\n",
    "top_2018_df = top_2018.sort_values(ascending=False)\n",
    "\n",
    "top_2018_df\n"
   ]
  },
  {
   "cell_type": "code",
   "execution_count": 23,
   "metadata": {},
   "outputs": [
    {
     "data": {
      "text/plain": [
       "Country\n",
       "Finland    7.632\n",
       "Burundi    2.905\n",
       "Name: Happiness Score, dtype: float64"
      ]
     },
     "execution_count": 23,
     "metadata": {},
     "output_type": "execute_result"
    }
   ],
   "source": [
    "# Extract first and last value of dataset -Lauren\n",
    "df2018 = top_2018_df.iloc[[0, -1]]\n",
    "df2018\n"
   ]
  },
  {
   "cell_type": "code",
   "execution_count": 24,
   "metadata": {},
   "outputs": [],
   "source": [
    "# Reset index and convert to pandas -Lauren\n",
    "df2018 = pd.DataFrame(df2018).reset_index()\n"
   ]
  },
  {
   "cell_type": "code",
   "execution_count": 25,
   "metadata": {},
   "outputs": [
    {
     "data": {
      "text/html": [
       "<div>\n",
       "<style scoped>\n",
       "    .dataframe tbody tr th:only-of-type {\n",
       "        vertical-align: middle;\n",
       "    }\n",
       "\n",
       "    .dataframe tbody tr th {\n",
       "        vertical-align: top;\n",
       "    }\n",
       "\n",
       "    .dataframe thead th {\n",
       "        text-align: right;\n",
       "    }\n",
       "</style>\n",
       "<table border=\"1\" class=\"dataframe\">\n",
       "  <thead>\n",
       "    <tr style=\"text-align: right;\">\n",
       "      <th></th>\n",
       "      <th>Country</th>\n",
       "      <th>Happiness Score</th>\n",
       "      <th>Year</th>\n",
       "    </tr>\n",
       "  </thead>\n",
       "  <tbody>\n",
       "    <tr>\n",
       "      <th>0</th>\n",
       "      <td>Finland</td>\n",
       "      <td>7.632</td>\n",
       "      <td>2018</td>\n",
       "    </tr>\n",
       "    <tr>\n",
       "      <th>1</th>\n",
       "      <td>Burundi</td>\n",
       "      <td>2.905</td>\n",
       "      <td>2018</td>\n",
       "    </tr>\n",
       "  </tbody>\n",
       "</table>\n",
       "</div>"
      ],
      "text/plain": [
       "   Country  Happiness Score  Year\n",
       "0  Finland            7.632  2018\n",
       "1  Burundi            2.905  2018"
      ]
     },
     "execution_count": 25,
     "metadata": {},
     "output_type": "execute_result"
    }
   ],
   "source": [
    "# Add \"Year\" column -Lauren\n",
    "df2018[\"Year\"] = [2018, 2018]\n",
    "df2018\n"
   ]
  },
  {
   "cell_type": "code",
   "execution_count": 26,
   "metadata": {},
   "outputs": [
    {
     "data": {
      "text/plain": [
       "Country\n",
       "Finland                     7.769\n",
       "Denmark                     7.600\n",
       "Norway                      7.554\n",
       "Iceland                     7.494\n",
       "Netherlands                 7.488\n",
       "                            ...  \n",
       "Yemen                       3.380\n",
       "Rwanda                      3.334\n",
       "Tanzania                    3.231\n",
       "Afghanistan                 3.203\n",
       "Central African Republic    3.083\n",
       "Name: Happiness Score, Length: 149, dtype: float64"
      ]
     },
     "execution_count": 26,
     "metadata": {},
     "output_type": "execute_result"
    }
   ],
   "source": [
    "# Extract data for only 2019 and put in decending order -Lauren\n",
    "top_2019 = happiness_df[happiness_df['Year'] == 2019].groupby(\n",
    "    happiness_df.Country).max()[\"Happiness Score\"]\n",
    "top_2019_df = top_2019.sort_values(ascending=False)\n",
    "\n",
    "top_2019_df\n"
   ]
  },
  {
   "cell_type": "code",
   "execution_count": 27,
   "metadata": {},
   "outputs": [
    {
     "data": {
      "text/plain": [
       "Country\n",
       "Finland                     7.769\n",
       "Central African Republic    3.083\n",
       "Name: Happiness Score, dtype: float64"
      ]
     },
     "execution_count": 27,
     "metadata": {},
     "output_type": "execute_result"
    }
   ],
   "source": [
    "# Extract first and last value of dataset -Lauren\n",
    "df2019 = top_2019_df.iloc[[0, -1]]\n",
    "df2019\n"
   ]
  },
  {
   "cell_type": "code",
   "execution_count": 28,
   "metadata": {},
   "outputs": [],
   "source": [
    "# Reset index and convert to pandas -Lauren\n",
    "df2019 = pd.DataFrame(df2019).reset_index()\n"
   ]
  },
  {
   "cell_type": "code",
   "execution_count": 29,
   "metadata": {},
   "outputs": [
    {
     "data": {
      "text/html": [
       "<div>\n",
       "<style scoped>\n",
       "    .dataframe tbody tr th:only-of-type {\n",
       "        vertical-align: middle;\n",
       "    }\n",
       "\n",
       "    .dataframe tbody tr th {\n",
       "        vertical-align: top;\n",
       "    }\n",
       "\n",
       "    .dataframe thead th {\n",
       "        text-align: right;\n",
       "    }\n",
       "</style>\n",
       "<table border=\"1\" class=\"dataframe\">\n",
       "  <thead>\n",
       "    <tr style=\"text-align: right;\">\n",
       "      <th></th>\n",
       "      <th>Country</th>\n",
       "      <th>Happiness Score</th>\n",
       "      <th>Year</th>\n",
       "    </tr>\n",
       "  </thead>\n",
       "  <tbody>\n",
       "    <tr>\n",
       "      <th>0</th>\n",
       "      <td>Finland</td>\n",
       "      <td>7.769</td>\n",
       "      <td>2019</td>\n",
       "    </tr>\n",
       "    <tr>\n",
       "      <th>1</th>\n",
       "      <td>Central African Republic</td>\n",
       "      <td>3.083</td>\n",
       "      <td>2019</td>\n",
       "    </tr>\n",
       "  </tbody>\n",
       "</table>\n",
       "</div>"
      ],
      "text/plain": [
       "                    Country  Happiness Score  Year\n",
       "0                   Finland            7.769  2019\n",
       "1  Central African Republic            3.083  2019"
      ]
     },
     "execution_count": 29,
     "metadata": {},
     "output_type": "execute_result"
    }
   ],
   "source": [
    "# Add \"Year\" column -Lauren\n",
    "df2019[\"Year\"] = [2019, 2019]\n",
    "df2019\n"
   ]
  },
  {
   "cell_type": "code",
   "execution_count": 30,
   "metadata": {},
   "outputs": [
    {
     "data": {
      "text/plain": [
       "Country\n",
       "Finland                     7.8087\n",
       "Denmark                     7.6456\n",
       "Switzerland                 7.5599\n",
       "Iceland                     7.5045\n",
       "Norway                      7.4880\n",
       "                             ...  \n",
       "Central African Republic    3.4759\n",
       "Rwanda                      3.3123\n",
       "Zimbabwe                    3.2992\n",
       "South Sudan                 2.8166\n",
       "Afghanistan                 2.5669\n",
       "Name: Happiness Score, Length: 153, dtype: float64"
      ]
     },
     "execution_count": 30,
     "metadata": {},
     "output_type": "execute_result"
    }
   ],
   "source": [
    "# Extract data for only 2020 and put in decending order -Lauren\n",
    "top_2020 = happiness_df[happiness_df['Year'] == 2020].groupby(\n",
    "    happiness_df.Country).max()[\"Happiness Score\"]\n",
    "top_2020_df = top_2020.sort_values(ascending=False)\n",
    "\n",
    "top_2020_df\n"
   ]
  },
  {
   "cell_type": "code",
   "execution_count": 31,
   "metadata": {},
   "outputs": [
    {
     "data": {
      "text/plain": [
       "Country\n",
       "Finland        7.8087\n",
       "Afghanistan    2.5669\n",
       "Name: Happiness Score, dtype: float64"
      ]
     },
     "execution_count": 31,
     "metadata": {},
     "output_type": "execute_result"
    }
   ],
   "source": [
    "# Extract first and last value of dataset -Lauren\n",
    "df2020 = top_2020_df.iloc[[0, -1]]\n",
    "df2020\n"
   ]
  },
  {
   "cell_type": "code",
   "execution_count": 32,
   "metadata": {},
   "outputs": [],
   "source": [
    "# Reset index and convert to pandas -Lauren\n",
    "df2020 = pd.DataFrame(df2020).reset_index()\n"
   ]
  },
  {
   "cell_type": "code",
   "execution_count": 33,
   "metadata": {},
   "outputs": [
    {
     "data": {
      "text/html": [
       "<div>\n",
       "<style scoped>\n",
       "    .dataframe tbody tr th:only-of-type {\n",
       "        vertical-align: middle;\n",
       "    }\n",
       "\n",
       "    .dataframe tbody tr th {\n",
       "        vertical-align: top;\n",
       "    }\n",
       "\n",
       "    .dataframe thead th {\n",
       "        text-align: right;\n",
       "    }\n",
       "</style>\n",
       "<table border=\"1\" class=\"dataframe\">\n",
       "  <thead>\n",
       "    <tr style=\"text-align: right;\">\n",
       "      <th></th>\n",
       "      <th>Country</th>\n",
       "      <th>Happiness Score</th>\n",
       "      <th>Year</th>\n",
       "    </tr>\n",
       "  </thead>\n",
       "  <tbody>\n",
       "    <tr>\n",
       "      <th>0</th>\n",
       "      <td>Finland</td>\n",
       "      <td>7.8087</td>\n",
       "      <td>2020</td>\n",
       "    </tr>\n",
       "    <tr>\n",
       "      <th>1</th>\n",
       "      <td>Afghanistan</td>\n",
       "      <td>2.5669</td>\n",
       "      <td>2020</td>\n",
       "    </tr>\n",
       "  </tbody>\n",
       "</table>\n",
       "</div>"
      ],
      "text/plain": [
       "       Country  Happiness Score  Year\n",
       "0      Finland           7.8087  2020\n",
       "1  Afghanistan           2.5669  2020"
      ]
     },
     "execution_count": 33,
     "metadata": {},
     "output_type": "execute_result"
    }
   ],
   "source": [
    "# Add \"Year\" column -Lauren\n",
    "df2020[\"Year\"] = [2020, 2020]\n",
    "df2020\n"
   ]
  },
  {
   "cell_type": "code",
   "execution_count": 34,
   "metadata": {},
   "outputs": [
    {
     "data": {
      "text/plain": [
       "Country\n",
       "Finland        7.842\n",
       "Denmark        7.620\n",
       "Switzerland    7.571\n",
       "Iceland        7.554\n",
       "Netherlands    7.464\n",
       "               ...  \n",
       "Lesotho        3.512\n",
       "Botswana       3.467\n",
       "Rwanda         3.415\n",
       "Zimbabwe       3.145\n",
       "Afghanistan    2.523\n",
       "Name: Happiness Score, Length: 149, dtype: float64"
      ]
     },
     "execution_count": 34,
     "metadata": {},
     "output_type": "execute_result"
    }
   ],
   "source": [
    "# Extract data for only 2021 and put in decending order -Lauren\n",
    "top_2021 = reduced_happiness_df[reduced_happiness_df['Year'] == 2021].groupby(\n",
    "    reduced_happiness_df.Country).max()[\"Happiness Score\"]\n",
    "top_2021_df = top_2021.sort_values(ascending=False)\n",
    "\n",
    "top_2021_df\n"
   ]
  },
  {
   "cell_type": "code",
   "execution_count": 35,
   "metadata": {},
   "outputs": [
    {
     "data": {
      "text/plain": [
       "Country\n",
       "Finland        7.842\n",
       "Afghanistan    2.523\n",
       "Name: Happiness Score, dtype: float64"
      ]
     },
     "execution_count": 35,
     "metadata": {},
     "output_type": "execute_result"
    }
   ],
   "source": [
    "# Extract first and last value of dataset -Lauren\n",
    "df2021 = top_2021_df.iloc[[0, -1]]\n",
    "df2021\n"
   ]
  },
  {
   "cell_type": "code",
   "execution_count": 36,
   "metadata": {},
   "outputs": [],
   "source": [
    "# Reset index and convert to pandas -Lauren\n",
    "df2021 = pd.DataFrame(df2021).reset_index()\n"
   ]
  },
  {
   "cell_type": "code",
   "execution_count": 37,
   "metadata": {},
   "outputs": [
    {
     "data": {
      "text/html": [
       "<div>\n",
       "<style scoped>\n",
       "    .dataframe tbody tr th:only-of-type {\n",
       "        vertical-align: middle;\n",
       "    }\n",
       "\n",
       "    .dataframe tbody tr th {\n",
       "        vertical-align: top;\n",
       "    }\n",
       "\n",
       "    .dataframe thead th {\n",
       "        text-align: right;\n",
       "    }\n",
       "</style>\n",
       "<table border=\"1\" class=\"dataframe\">\n",
       "  <thead>\n",
       "    <tr style=\"text-align: right;\">\n",
       "      <th></th>\n",
       "      <th>Country</th>\n",
       "      <th>Happiness Score</th>\n",
       "      <th>Year</th>\n",
       "    </tr>\n",
       "  </thead>\n",
       "  <tbody>\n",
       "    <tr>\n",
       "      <th>0</th>\n",
       "      <td>Finland</td>\n",
       "      <td>7.842</td>\n",
       "      <td>2021</td>\n",
       "    </tr>\n",
       "    <tr>\n",
       "      <th>1</th>\n",
       "      <td>Afghanistan</td>\n",
       "      <td>2.523</td>\n",
       "      <td>2021</td>\n",
       "    </tr>\n",
       "  </tbody>\n",
       "</table>\n",
       "</div>"
      ],
      "text/plain": [
       "       Country  Happiness Score  Year\n",
       "0      Finland            7.842  2021\n",
       "1  Afghanistan            2.523  2021"
      ]
     },
     "execution_count": 37,
     "metadata": {},
     "output_type": "execute_result"
    }
   ],
   "source": [
    "# Add \"Year\" column -Lauren\n",
    "df2021[\"Year\"] = [2021, 2021]\n",
    "df2021\n"
   ]
  },
  {
   "cell_type": "code",
   "execution_count": 38,
   "metadata": {},
   "outputs": [
    {
     "data": {
      "text/plain": [
       "Country\n",
       "Finland         7.821\n",
       "Denmark         7.636\n",
       "Iceland         7.557\n",
       "Switzerland     7.512\n",
       "Netherlands     7.415\n",
       "                ...  \n",
       "Tanzania        3.702\n",
       "Sierra Leone    3.574\n",
       "Zimbabwe        2.995\n",
       "Lebanon         2.955\n",
       "Afghanistan     2.404\n",
       "Name: Happiness Score, Length: 119, dtype: float64"
      ]
     },
     "execution_count": 38,
     "metadata": {},
     "output_type": "execute_result"
    }
   ],
   "source": [
    "# Extract data for only 2022 and put in decending order -Lauren\n",
    "top_2022 = happiness_df[happiness_df['Year'] == 2022].groupby(\n",
    "    happiness_df.Country).max()[\"Happiness Score\"]\n",
    "top_2022_df = top_2022.sort_values(ascending=False)\n",
    "\n",
    "top_2022_df\n"
   ]
  },
  {
   "cell_type": "code",
   "execution_count": 39,
   "metadata": {},
   "outputs": [
    {
     "data": {
      "text/plain": [
       "Country\n",
       "Finland        7.821\n",
       "Afghanistan    2.404\n",
       "Name: Happiness Score, dtype: float64"
      ]
     },
     "execution_count": 39,
     "metadata": {},
     "output_type": "execute_result"
    }
   ],
   "source": [
    "# Extract first and last value of dataset -Lauren\n",
    "df2022 = top_2022_df.iloc[[0, -1]]\n",
    "df2022\n"
   ]
  },
  {
   "cell_type": "code",
   "execution_count": 40,
   "metadata": {},
   "outputs": [],
   "source": [
    "# Reset index and convert to pandas -Lauren\n",
    "df2022 = pd.DataFrame(df2022).reset_index()\n"
   ]
  },
  {
   "cell_type": "code",
   "execution_count": 41,
   "metadata": {},
   "outputs": [
    {
     "data": {
      "text/html": [
       "<div>\n",
       "<style scoped>\n",
       "    .dataframe tbody tr th:only-of-type {\n",
       "        vertical-align: middle;\n",
       "    }\n",
       "\n",
       "    .dataframe tbody tr th {\n",
       "        vertical-align: top;\n",
       "    }\n",
       "\n",
       "    .dataframe thead th {\n",
       "        text-align: right;\n",
       "    }\n",
       "</style>\n",
       "<table border=\"1\" class=\"dataframe\">\n",
       "  <thead>\n",
       "    <tr style=\"text-align: right;\">\n",
       "      <th></th>\n",
       "      <th>Country</th>\n",
       "      <th>Happiness Score</th>\n",
       "      <th>Year</th>\n",
       "    </tr>\n",
       "  </thead>\n",
       "  <tbody>\n",
       "    <tr>\n",
       "      <th>0</th>\n",
       "      <td>Finland</td>\n",
       "      <td>7.821</td>\n",
       "      <td>2022</td>\n",
       "    </tr>\n",
       "    <tr>\n",
       "      <th>1</th>\n",
       "      <td>Afghanistan</td>\n",
       "      <td>2.404</td>\n",
       "      <td>2022</td>\n",
       "    </tr>\n",
       "  </tbody>\n",
       "</table>\n",
       "</div>"
      ],
      "text/plain": [
       "       Country  Happiness Score  Year\n",
       "0      Finland            7.821  2022\n",
       "1  Afghanistan            2.404  2022"
      ]
     },
     "execution_count": 41,
     "metadata": {},
     "output_type": "execute_result"
    }
   ],
   "source": [
    "# Add \"Year\" column -Lauren\n",
    "df2022[\"Year\"] = [2022, 2022]\n",
    "df2022\n"
   ]
  },
  {
   "cell_type": "code",
   "execution_count": 42,
   "metadata": {},
   "outputs": [
    {
     "data": {
      "text/html": [
       "<div>\n",
       "<style scoped>\n",
       "    .dataframe tbody tr th:only-of-type {\n",
       "        vertical-align: middle;\n",
       "    }\n",
       "\n",
       "    .dataframe tbody tr th {\n",
       "        vertical-align: top;\n",
       "    }\n",
       "\n",
       "    .dataframe thead th {\n",
       "        text-align: right;\n",
       "    }\n",
       "</style>\n",
       "<table border=\"1\" class=\"dataframe\">\n",
       "  <thead>\n",
       "    <tr style=\"text-align: right;\">\n",
       "      <th></th>\n",
       "      <th>Country</th>\n",
       "      <th>Happiness Score</th>\n",
       "      <th>Year</th>\n",
       "    </tr>\n",
       "  </thead>\n",
       "  <tbody>\n",
       "    <tr>\n",
       "      <th>0</th>\n",
       "      <td>Switzerland</td>\n",
       "      <td>7.5870</td>\n",
       "      <td>2015</td>\n",
       "    </tr>\n",
       "    <tr>\n",
       "      <th>1</th>\n",
       "      <td>Togo</td>\n",
       "      <td>2.8390</td>\n",
       "      <td>2015</td>\n",
       "    </tr>\n",
       "    <tr>\n",
       "      <th>0</th>\n",
       "      <td>Denmark</td>\n",
       "      <td>7.5260</td>\n",
       "      <td>2016</td>\n",
       "    </tr>\n",
       "    <tr>\n",
       "      <th>1</th>\n",
       "      <td>Burundi</td>\n",
       "      <td>2.9050</td>\n",
       "      <td>2016</td>\n",
       "    </tr>\n",
       "    <tr>\n",
       "      <th>0</th>\n",
       "      <td>Norway</td>\n",
       "      <td>7.5370</td>\n",
       "      <td>2017</td>\n",
       "    </tr>\n",
       "    <tr>\n",
       "      <th>1</th>\n",
       "      <td>Central African Republic</td>\n",
       "      <td>2.6930</td>\n",
       "      <td>2017</td>\n",
       "    </tr>\n",
       "    <tr>\n",
       "      <th>0</th>\n",
       "      <td>Finland</td>\n",
       "      <td>7.6320</td>\n",
       "      <td>2018</td>\n",
       "    </tr>\n",
       "    <tr>\n",
       "      <th>1</th>\n",
       "      <td>Burundi</td>\n",
       "      <td>2.9050</td>\n",
       "      <td>2018</td>\n",
       "    </tr>\n",
       "    <tr>\n",
       "      <th>0</th>\n",
       "      <td>Finland</td>\n",
       "      <td>7.7690</td>\n",
       "      <td>2019</td>\n",
       "    </tr>\n",
       "    <tr>\n",
       "      <th>1</th>\n",
       "      <td>Central African Republic</td>\n",
       "      <td>3.0830</td>\n",
       "      <td>2019</td>\n",
       "    </tr>\n",
       "    <tr>\n",
       "      <th>0</th>\n",
       "      <td>Finland</td>\n",
       "      <td>7.8087</td>\n",
       "      <td>2020</td>\n",
       "    </tr>\n",
       "    <tr>\n",
       "      <th>1</th>\n",
       "      <td>Afghanistan</td>\n",
       "      <td>2.5669</td>\n",
       "      <td>2020</td>\n",
       "    </tr>\n",
       "    <tr>\n",
       "      <th>0</th>\n",
       "      <td>Finland</td>\n",
       "      <td>7.8420</td>\n",
       "      <td>2021</td>\n",
       "    </tr>\n",
       "    <tr>\n",
       "      <th>1</th>\n",
       "      <td>Afghanistan</td>\n",
       "      <td>2.5230</td>\n",
       "      <td>2021</td>\n",
       "    </tr>\n",
       "    <tr>\n",
       "      <th>0</th>\n",
       "      <td>Finland</td>\n",
       "      <td>7.8210</td>\n",
       "      <td>2022</td>\n",
       "    </tr>\n",
       "    <tr>\n",
       "      <th>1</th>\n",
       "      <td>Afghanistan</td>\n",
       "      <td>2.4040</td>\n",
       "      <td>2022</td>\n",
       "    </tr>\n",
       "  </tbody>\n",
       "</table>\n",
       "</div>"
      ],
      "text/plain": [
       "                    Country  Happiness Score  Year\n",
       "0               Switzerland           7.5870  2015\n",
       "1                      Togo           2.8390  2015\n",
       "0                   Denmark           7.5260  2016\n",
       "1                   Burundi           2.9050  2016\n",
       "0                    Norway           7.5370  2017\n",
       "1  Central African Republic           2.6930  2017\n",
       "0                   Finland           7.6320  2018\n",
       "1                   Burundi           2.9050  2018\n",
       "0                   Finland           7.7690  2019\n",
       "1  Central African Republic           3.0830  2019\n",
       "0                   Finland           7.8087  2020\n",
       "1               Afghanistan           2.5669  2020\n",
       "0                   Finland           7.8420  2021\n",
       "1               Afghanistan           2.5230  2021\n",
       "0                   Finland           7.8210  2022\n",
       "1               Afghanistan           2.4040  2022"
      ]
     },
     "execution_count": 42,
     "metadata": {},
     "output_type": "execute_result"
    }
   ],
   "source": [
    "# Define list of DataFrames -Lauren\n",
    "dfs = [df2015, df2016, df2017, df2018, df2019, df2020, df2021, df2022]\n",
    "\n",
    "# Merge all DataFrames into one -Lauren\n",
    "final_df = pd.concat(dfs)\n",
    "final_df\n"
   ]
  },
  {
   "cell_type": "code",
   "execution_count": 49,
   "metadata": {},
   "outputs": [
    {
     "data": {
      "text/plain": [
       "array([7.587     , 7.526     , 7.53700018, 7.632     , 7.769     ,\n",
       "       7.80870008, 7.842     , 7.821     ])"
      ]
     },
     "execution_count": 49,
     "metadata": {},
     "output_type": "execute_result"
    }
   ],
   "source": [
    "final_df.loc[final_df.index==0, \"Happiness Score\"].values"
   ]
  },
  {
   "cell_type": "code",
   "execution_count": 50,
   "metadata": {},
   "outputs": [
    {
     "data": {
      "text/plain": [
       "array([2.839     , 2.905     , 2.69300008, 2.905     , 3.083     ,\n",
       "       2.56690001, 2.523     , 2.404     ])"
      ]
     },
     "execution_count": 50,
     "metadata": {},
     "output_type": "execute_result"
    }
   ],
   "source": [
    "final_df.loc[final_df.index==1, \"Happiness Score\"].values"
   ]
  },
  {
   "cell_type": "code",
   "execution_count": 51,
   "metadata": {},
   "outputs": [
    {
     "data": {
      "text/plain": [
       "array([2015, 2016, 2017, 2018, 2019, 2020, 2021, 2022], dtype=int64)"
      ]
     },
     "execution_count": 51,
     "metadata": {},
     "output_type": "execute_result"
    }
   ],
   "source": [
    "final_df[\"Year\"].unique()"
   ]
  },
  {
   "cell_type": "code",
   "execution_count": 54,
   "metadata": {},
   "outputs": [
    {
     "data": {
      "text/plain": [
       "Text(0, 0.5, 'Happiness Scores')"
      ]
     },
     "execution_count": 54,
     "metadata": {},
     "output_type": "execute_result"
    },
    {
     "data": {
      "image/png": "[encoded data removed]",
      "text/plain": [
       "<Figure size 640x480 with 1 Axes>"
      ]
     },
     "metadata": {},
     "output_type": "display_data"
    }
   ],
   "source": [
    "#Create a line chart using data from final_df -Lauren\n",
    "\n",
    "df = pd.DataFrame({\n",
    "    'Highest Ranked': final_df.loc[final_df.index==0, \"Happiness Score\"].values,\n",
    "    'Lowest Ranked': final_df.loc[final_df.index==1, \"Happiness Score\"].values\n",
    "}, index=final_df[\"Year\"].unique())\n",
    "lines = df.plot(marker=\"o\")\n",
    "\n",
    "\n",
    "plt.title('Highest and Lowest Happiness Scores (2015-2022)')\n",
    "plt.xlabel('Years')\n",
    "plt.ylabel('Happiness Scores')\n",
    "\n"
   ]
  },
  {
   "cell_type": "code",
   "execution_count": 43,
   "metadata": {},
   "outputs": [
    {
     "data": {
      "text/plain": [
       "Text(0, 0.5, 'Happiness Scores')"
      ]
     },
     "execution_count": 43,
     "metadata": {},
     "output_type": "execute_result"
    },
    {
     "data": {
      "image/png": "[encoded data removed]",
      "text/plain": [
       "<Figure size 640x480 with 1 Axes>"
      ]
     },
     "metadata": {},
     "output_type": "display_data"
    }
   ],
   "source": [
    "#Create a line chart using data from final_df -Lauren\n",
    "# df \n",
    "# = pd.DataFrame({\n",
    "#     'Highest Ranked': [7.5870, 7.5260, 7.5370, 7.6320, 7.7690, 7.8087, 7.8420, 7.8210],\n",
    "#     'Lowest Ranked': [2.8390, 2.9050, 2.6930, 2.9050, 3.0830, 2.5669, 2.5230, 2.4040]\n",
    "# }, index=[2015, 2016, 2017, 2018, 2019, 2020, 2021, 2022])\n",
    "# lines = df.plot.line()\n",
    "\n",
    "# plt.title('Highest and Lowest Happiness Scores (2015-2022)')\n",
    "# plt.xlabel('Years')\n",
    "# plt.ylabel('Happiness Scores')\n",
    "\n"
   ]
  },
  {
   "cell_type": "code",
   "execution_count": 56,
   "metadata": {},
   "outputs": [
    {
     "data": {
      "image/png": "[encoded data removed]",
      "text/plain": [
       "<Figure size 640x480 with 1 Axes>"
      ]
     },
     "metadata": {},
     "output_type": "display_data"
    }
   ],
   "source": [
    "#Create a bar chart using data from final_df -Lauren\n",
    "\n",
    "df \n",
    "df.plot(kind=\"bar\")\n",
    "plt.title(\"Highest and Lowest Happiness Scores by Year (2015-2022)\")\n",
    "plt.xlabel(\"Year\")\n",
    "plt.ylabel(\"Happiness Score\")\n",
    "plt.legend(bbox_to_anchor=(1.0, 1.0))\n",
    "plt.show()"
   ]
  },
  {
   "cell_type": "code",
   "execution_count": null,
   "metadata": {},
   "outputs": [],
   "source": []
  }
 ],
 "metadata": {
  "kernelspec": {
   "display_name": "Python 3",
   "language": "python",
   "name": "python3"
  },
  "language_info": {
   "codemirror_mode": {
    "name": "ipython",
    "version": 3
   },
   "file_extension": ".py",
   "mimetype": "text/x-python",
   "name": "python",
   "nbconvert_exporter": "python",
   "pygments_lexer": "ipython3",
   "version": "3.10.9"
  },
  "orig_nbformat": 4
 },
 "nbformat": 4,
 "nbformat_minor": 2
}
